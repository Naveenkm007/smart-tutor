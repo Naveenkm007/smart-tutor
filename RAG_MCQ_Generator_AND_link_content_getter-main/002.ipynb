{
 "cells": [
  {
   "cell_type": "code",
   "execution_count": null,
   "id": "8d53602a",
   "metadata": {},
   "outputs": [
    {
     "data": {
      "text/plain": [
       "3"
      ]
     },
     "execution_count": 1,
     "metadata": {},
     "output_type": "execute_result"
    }
   ],
   "source": [
    "1+2"
   ]
  },
  {
   "cell_type": "code",
   "execution_count": null,
   "id": "56c84c0a",
   "metadata": {},
   "outputs": [
    {
     "name": "stderr",
     "output_type": "stream",
     "text": [
      "c:\\Users\\LENOVO\\OneDrive\\Desktop\\Chanikya\\myenv\\Lib\\site-packages\\tqdm\\auto.py:21: TqdmWarning: IProgress not found. Please update jupyter and ipywidgets. See https://ipywidgets.readthedocs.io/en/stable/user_install.html\n",
      "  from .autonotebook import tqdm as notebook_tqdm\n",
      "C:\\Users\\LENOVO\\AppData\\Local\\Temp\\ipykernel_14224\\3871601362.py:23: LangChainDeprecationWarning: The class `HuggingFaceEmbeddings` was deprecated in LangChain 0.2.2 and will be removed in 1.0. An updated version of the class exists in the :class:`~langchain-huggingface package and should be used instead. To use it run `pip install -U :class:`~langchain-huggingface` and import as `from :class:`~langchain_huggingface import HuggingFaceEmbeddings``.\n",
      "  embeddings = HuggingFaceEmbeddings(model_name=\"sentence-transformers/all-MiniLM-L6-v2\")\n"
     ]
    },
    {
     "name": "stdout",
     "output_type": "stream",
     "text": [
      "=== Generated MCQs ===\n",
      "\n",
      "Here are 5 high-quality multiple-choice questions based on the provided context:\n",
      "\n",
      "Q1. What is the purpose of the `displayQ()` function in the given code?\n",
      "A) To insert an element into the queue\n",
      "B) To delete an element from the queue\n",
      "C) To display the elements in the queue\n",
      "D) To create a new node\n",
      "\n",
      "Correct Answer: **C**\n",
      "\n",
      "Q2. Which function is used to create 'n' number of nodes in a circular doubly linked list?\n",
      "A) `cdll_insert_beg()`\n",
      "B) `cdll_createlist()`\n",
      "C) `cdll_display_left_right()`\n",
      "D) `getnode()`\n",
      "\n",
      "Correct Answer: **B**\n",
      "\n",
      "Q3. What is the action performed by the `deleteQ()` function in the given code?\n",
      "A) It inserts a new element at the beginning of the queue\n",
      "B) It deletes an element from the queue and prints its value\n",
      "C) It displays the elements in the queue\n",
      "D) It creates a new node\n",
      "\n",
      "Correct Answer: **B**\n",
      "\n",
      "Q4. How is a new node inserted at the beginning of a circular doubly linked list?\n",
      "A) By setting `newnode->left` to `start` and `newnode->right` to `start->left`\n",
      "B) By setting `newnode->left` to `start->left` and `newnode->right` to `start`\n",
      "C) By setting `newnode->left` to `start->right` and `newnode->right` to `start`\n",
      "D) By setting `newnode->left` to `NULL` and `newnode->right` to `start`\n",
      "\n",
      "Correct Answer: **B**\n",
      "\n",
      "Q5. What is the purpose of the `menu()` function in the given code?\n",
      "A) To display the elements in the queue\n",
      "B) To insert an element into the queue\n",
      "C) To provide a menu for the user to choose queue operations\n",
      "D) To delete an element from the queue\n",
      "\n",
      "Correct Answer: **C**\n"
     ]
    }
   ],
   "source": [
    "# pip install (if you haven't already)\n",
    "# pip install langchain langchain-community chromadb sentence-transformers groq  # adjust package names as needed\n",
    "\n",
    "#Thsi is for MCQ quizz Generator from PDF using Groq LLM and LangChain\n",
    "\n",
    "import os\n",
    "from langchain_groq import ChatGroq\n",
    "from langchain.document_loaders import PyPDFLoader\n",
    "from langchain.text_splitter import RecursiveCharacterTextSplitter\n",
    "from langchain_community.embeddings import HuggingFaceEmbeddings\n",
    "from langchain_community.vectorstores import Chroma\n",
    "from langchain_core.prompts import ChatPromptTemplate\n",
    "from langchain.chains.combine_documents import create_stuff_documents_chain\n",
    "from langchain.chains.retrieval import create_retrieval_chain\n",
    "\n",
    "# 1) load PDF\n",
    "loader = PyPDFLoader(\"DataStructuresNotes1.pdf\")\n",
    "documents = loader.load()  # returns list[Document]\n",
    "\n",
    "# 2) split into chunks\n",
    "splitter = RecursiveCharacterTextSplitter(chunk_size=1000, chunk_overlap=200)\n",
    "docs = splitter.split_documents(documents)\n",
    "\n",
    "# 3) embeddings\n",
    "embeddings = HuggingFaceEmbeddings(model_name=\"sentence-transformers/all-MiniLM-L6-v2\")\n",
    "\n",
    "# 4) build chroma vectorstore (use `embedding=` keyword)\n",
    "# Optionally set persist_directory=\"chroma_db\" to persist on disk\n",
    "db = Chroma.from_documents(documents=docs, embedding=embeddings, persist_directory=None)\n",
    "\n",
    "# 5) retriever\n",
    "retriever = db.as_retriever()\n",
    "\n",
    "# 6) Groq LLM (ensure GROQ_API_KEY is set in your env)\n",
    "groq_api_key = os.getenv(\"GROQ_API_KEY\")\n",
    "if not groq_api_key:\n",
    "    raise EnvironmentError(\"Set GROQ_API_KEY in environment before running\")\n",
    "\n",
    "llm = ChatGroq(api_key=groq_api_key, model=\"llama-3.3-70b-versatile\", temperature=0)\n",
    "\n",
    "# 7) prompt template for MCQs\n",
    "mcq_prompt = ChatPromptTemplate.from_template(\n",
    "    \"\"\"\n",
    "You are an expert quiz creator. Using the following context from documents, generate {num_questions} high-quality multiple-choice questions.\n",
    "\n",
    "Context:\n",
    "{context}\n",
    "\n",
    "Instructions:\n",
    "1. Each question must have 1 correct answer and 3 incorrect but plausible options.\n",
    "2. Highlight the correct answer clearly.\n",
    "3. Format the output as:\n",
    "\n",
    "Q1. <question>\n",
    "A) option1\n",
    "B) option2\n",
    "C) option3\n",
    "D) option4\n",
    "Correct Answer: <letter>\n",
    "\n",
    "Now generate the MCQs.\n",
    "\"\"\"\n",
    ")\n",
    "\n",
    "# 8) create document-combiner chain and retrieval chain\n",
    "mcq_doc_chain = create_stuff_documents_chain(llm=llm, prompt=mcq_prompt)\n",
    "retrieval_chain = create_retrieval_chain(retriever=retriever, combine_docs_chain=mcq_doc_chain)\n",
    "\n",
    "# 9) invoke the chain\n",
    "result = retrieval_chain.invoke({\"input\": \"Generate MCQs from the document\", \"num_questions\": 5})\n",
    "\n",
    "# result is a dict containing at least 'answer' and 'context' (see docs)\n",
    "print(\"=== Generated MCQs ===\\n\")\n",
    "print(result.get(\"answer\"))"
   ]
  },
  {
   "cell_type": "code",
   "execution_count": null,
   "id": "c52a03f3",
   "metadata": {},
   "outputs": [],
   "source": []
  },
  {
   "cell_type": "code",
   "execution_count": null,
   "id": "d3550238",
   "metadata": {},
   "outputs": [],
   "source": []
  },
  {
   "cell_type": "code",
   "execution_count": null,
   "id": "817ef33f",
   "metadata": {},
   "outputs": [],
   "source": [
    "#The below is for finding top 5 links and getting important data using llms"
   ]
  },
  {
   "cell_type": "code",
   "execution_count": null,
   "id": "4de7a3fe",
   "metadata": {},
   "outputs": [
    {
     "name": "stdout",
     "output_type": "stream",
     "text": [
      "Top 5 English educational links:\n",
      "1. https://stackoverflow.com/questions/26000198/what-does-colon-equal-in-python-mean\n",
      "2. https://stackoverflow.com/questions/35569042/ssl-certificate-verify-failed-with-python3\n",
      "3. https://stackoverflow.com/questions/25981703/pip-install-fails-with-connection-error-ssl-certificate-verify-failed-certi\n",
      "4. https://stackoverflow.com/questions/6392739/what-does-the-at-symbol-do-in-python\n",
      "5. https://stackoverflow.com/questions/3294889/iterating-over-dictionaries-using-for-loops\n"
     ]
    }
   ],
   "source": [
    "from ddgs import DDGS\n",
    "\n",
    "def get_top5_english_edu_links(query):\n",
    "    \"\"\"\n",
    "    Returns top 5 English links related to an educational topic.\n",
    "    \n",
    "    Args:\n",
    "        query (str): Search query.\n",
    "        \n",
    "    Returns:\n",
    "        list: List of top 5 URLs.\n",
    "    \"\"\"\n",
    "    links = []\n",
    "    with DDGS() as ddgs:\n",
    "        for r in ddgs.text(\n",
    "            query,\n",
    "            region='wt-wt',       # Worldwide English\n",
    "            safesearch=True,\n",
    "            max_results=10        # get 10 results to filter English\n",
    "        ):\n",
    "            url = r['href']\n",
    "            # Simple English filter: .com, .edu, .org, .net\n",
    "            if url and (\".com\" in url or \".edu\" in url or \".org\" in url or \".net\" in url):\n",
    "                links.append(url)\n",
    "            if len(links) >= 5:\n",
    "                break\n",
    "    return links\n",
    "\n",
    "# Example usage\n",
    "if __name__ == \"__main__\":\n",
    "    query = \"Python programming tutorial for students\"\n",
    "    links = get_top5_english_edu_links(query)  # ✅ stores output in `links` variable\n",
    "    print(\"Top 5 English educational links:\")\n",
    "    for i, link in enumerate(links, 1):\n",
    "        print(f\"{i}. {link}\")\n"
   ]
  },
  {
   "cell_type": "code",
   "execution_count": null,
   "id": "cbbb5b20",
   "metadata": {},
   "outputs": [
    {
     "data": {
      "text/plain": [
       "['https://stackoverflow.com/questions/26000198/what-does-colon-equal-in-python-mean',\n",
       " 'https://stackoverflow.com/questions/35569042/ssl-certificate-verify-failed-with-python3',\n",
       " 'https://stackoverflow.com/questions/25981703/pip-install-fails-with-connection-error-ssl-certificate-verify-failed-certi',\n",
       " 'https://stackoverflow.com/questions/6392739/what-does-the-at-symbol-do-in-python',\n",
       " 'https://stackoverflow.com/questions/3294889/iterating-over-dictionaries-using-for-loops']"
      ]
     },
     "execution_count": 29,
     "metadata": {},
     "output_type": "execute_result"
    }
   ],
   "source": [
    "links"
   ]
  },
  {
   "cell_type": "code",
   "execution_count": null,
   "id": "15917902",
   "metadata": {},
   "outputs": [],
   "source": [
    "def load_content_webbaseloader(links):\n",
    "    docs = []\n",
    "    for url in links:\n",
    "        try:\n",
    "            loader = WebBaseLoader(url)\n",
    "            loaded_docs = loader.load()\n",
    "            # Add source metadata\n",
    "            for doc in loaded_docs:\n",
    "                doc.metadata[\"source\"] = url\n",
    "            docs.extend(loaded_docs)\n",
    "        except Exception as e:\n",
    "            print(f\"❌ Failed to load {url}: {e}\")\n",
    "    return docs\n"
   ]
  },
  {
   "cell_type": "code",
   "execution_count": null,
   "id": "f997d0d2",
   "metadata": {},
   "outputs": [],
   "source": [
    "docs = load_content_webbaseloader(links)"
   ]
  },
  {
   "cell_type": "code",
   "execution_count": null,
   "id": "493592f5",
   "metadata": {},
   "outputs": [],
   "source": [
    "def format_docs(docs, preview_chars=1500):\n",
    "    formatted_outputs = []\n",
    "    for i, doc in enumerate(docs, 1):\n",
    "        content = doc.page_content.strip()\n",
    "        if len(content) > preview_chars:\n",
    "            content = content[:preview_chars] + \"...\\n[Content truncated]\"\n",
    "        formatted_text = f\"\"\"\n",
    "{i}. Source: {doc.metadata.get('source', 'Unknown')}\n",
    "----------------------------------------------------\n",
    "{content}\n",
    "\"\"\"\n",
    "        formatted_outputs.append(formatted_text)\n",
    "    return formatted_outputs"
   ]
  },
  {
   "cell_type": "code",
   "execution_count": null,
   "id": "82846f49",
   "metadata": {},
   "outputs": [],
   "source": [
    "formatted_docs = format_docs(docs, preview_chars=1500)"
   ]
  },
  {
   "cell_type": "code",
   "execution_count": null,
   "id": "3c8dec85",
   "metadata": {},
   "outputs": [
    {
     "data": {
      "text/plain": [
       "['\\n1. Source: https://stackoverflow.com/questions/26000198/what-does-colon-equal-in-python-mean\\n----------------------------------------------------\\nWhat does colon equal (:=) in Python mean? - Stack Overflow\\n\\n\\n\\n\\n\\n\\n\\n\\n\\n\\n\\n\\n\\n\\n\\n\\n\\n\\n\\n\\n\\n\\n \\n\\n\\n\\n\\n\\n\\n\\n\\n\\n\\n\\n\\n\\n \\n\\n\\nSkip to main content\\n\\n\\n\\n\\n\\n\\nStack Overflow\\n\\n\\n\\n\\nAbout\\n\\n\\n\\n\\nProducts\\n\\n\\n\\n\\nFor Teams\\n\\n\\n\\n\\n\\n\\n\\n\\nStack Overflow for Teams\\nWhere developers & technologists share private knowledge with coworkers\\n\\n\\n\\n\\nAdvertising\\nReach devs & technologists worldwide about your product, service or employer brand\\n\\n\\n\\n\\nKnowledge Solutions\\nData licensing offering for businesses to build and improve AI tools and models\\n\\n\\n\\n\\nLabs\\nThe future of collective knowledge sharing\\n\\n\\n\\nAbout the company\\nVisit the blog\\n\\n\\n\\n\\n\\n\\n\\n\\n\\n\\n\\n\\nLoading…\\n\\n\\n\\n\\n\\n\\n\\n\\n\\n\\n\\n\\n\\n\\n\\ncurrent community\\n\\n\\n\\n\\n\\n\\n\\n\\n\\n\\n\\n\\n\\n\\n\\n\\n            Stack Overflow\\n        \\n\\n\\n\\nhelp\\nchat\\n\\n\\n\\n\\n\\n\\n\\n\\n\\n            Meta Stack Overflow\\n        \\n\\n\\n\\n\\n\\n\\nyour communities            \\n\\n\\n\\nSign up or log in to customize your list.                \\n\\n\\nmore stack exchange communities\\n\\ncompany blog\\n\\n\\n\\n\\n\\n\\n\\n\\nLog in\\n\\nSign up\\n\\n\\n\\n\\n\\n\\n\\n\\n\\n\\n\\n\\n\\n\\n\\n\\n\\n\\n Home\\n\\n\\n\\n\\n\\n\\n Questions\\n\\n\\n\\n\\n\\n\\n AI Assist\\nLabs\\n\\n\\n\\n\\n\\n\\n\\n Tags\\n\\n\\n\\n\\n\\n\\n\\n Challenges\\n\\n\\n\\n\\n\\n\\n\\n\\n\\nChat\\n\\n\\n\\n\\n\\n Articles\\n\\n\\n\\n\\n\\n\\n Users\\n\\n\\n\\n\\n\\n\\n\\n Companies\\n\\n\\n\\n\\n\\n\\nCollectives\\n\\n\\n\\n\\n\\n\\n\\n\\n                                        Communities for your favorite technologies.  Explore all Collectives\\n\\n\\n\\n\\n\\nTeams\\n\\n\\n\\n            Ask questions, find answers and collaborate at work with Stack Overflow for Teams.\\n        \\nTry Teams for free\\nExplore Teams\\n\\n\\n\\n\\nTeams\\n\\n\\n\\n\\n\\n\\n\\n            Ask questions, find answers and collaborate at work with Stack Overflow for Teams.\\n            Explore Teams\\n\\n\\n\\n\\n\\n\\n\\n\\n...\\n[Content truncated]\\n',\n",
       " '\\n2. Source: https://stackoverflow.com/questions/35569042/ssl-certificate-verify-failed-with-python3\\n----------------------------------------------------\\npython - SSL: CERTIFICATE_VERIFY_FAILED with Python3 - Stack Overflow\\n\\n\\n\\n\\n\\n\\n\\n\\n\\n\\n\\n\\n\\n\\n\\n\\n\\n\\n\\n\\n\\n \\n\\n\\n\\n\\n\\n\\n\\n\\n\\n\\n\\n\\n\\n \\n\\n\\nSkip to main content\\n\\n\\n\\n\\n\\n\\nStack Overflow\\n\\n\\n\\n\\nAbout\\n\\n\\n\\n\\nProducts\\n\\n\\n\\n\\nFor Teams\\n\\n\\n\\n\\n\\n\\n\\n\\nStack Overflow for Teams\\nWhere developers & technologists share private knowledge with coworkers\\n\\n\\n\\n\\nAdvertising\\nReach devs & technologists worldwide about your product, service or employer brand\\n\\n\\n\\n\\nKnowledge Solutions\\nData licensing offering for businesses to build and improve AI tools and models\\n\\n\\n\\n\\nLabs\\nThe future of collective knowledge sharing\\n\\n\\n\\nAbout the company\\nVisit the blog\\n\\n\\n\\n\\n\\n\\n\\n\\n\\n\\n\\n\\nLoading…\\n\\n\\n\\n\\n\\n\\n\\n\\n\\n\\n\\n\\n\\n\\n\\ncurrent community\\n\\n\\n\\n\\n\\n\\n\\n\\n\\n\\n\\n\\n\\n\\n\\n\\n            Stack Overflow\\n        \\n\\n\\n\\nhelp\\nchat\\n\\n\\n\\n\\n\\n\\n\\n\\n\\n            Meta Stack Overflow\\n        \\n\\n\\n\\n\\n\\n\\nyour communities            \\n\\n\\n\\nSign up or log in to customize your list.                \\n\\n\\nmore stack exchange communities\\n\\ncompany blog\\n\\n\\n\\n\\n\\n\\n\\n\\nLog in\\n\\nSign up\\n\\n\\n\\n\\n\\n\\n\\n\\n\\n\\n\\n\\n\\n\\n\\n\\n\\n\\n Home\\n\\n\\n\\n\\n\\n\\n Questions\\n\\n\\n\\n\\n\\n\\n AI Assist\\nLabs\\n\\n\\n\\n\\n\\n\\n\\n Tags\\n\\n\\n\\n\\n\\n\\n\\n Challenges\\n\\n\\n\\n\\n\\n\\n\\n\\n\\nChat\\n\\n\\n\\n\\n\\n Articles\\n\\n\\n\\n\\n\\n\\n Users\\n\\n\\n\\n\\n\\n\\n\\n Companies\\n\\n\\n\\n\\n\\n\\nCollectives\\n\\n\\n\\n\\n\\n\\n\\n\\n                                        Communities for your favorite technologies.  Explore all Collectives\\n\\n\\n\\n\\n\\nTeams\\n\\n\\n\\n            Ask questions, find answers and collaborate at work with Stack Overflow for Teams.\\n        \\nTry Teams for free\\nExplore Teams\\n\\n\\n\\n\\nTeams\\n\\n\\n\\n\\n\\n\\n\\n            Ask questions, find answers and collaborate at work with Stack Overflow for Teams.\\n            Explore Teams...\\n[Content truncated]\\n',\n",
       " '\\n3. Source: https://stackoverflow.com/questions/25981703/pip-install-fails-with-connection-error-ssl-certificate-verify-failed-certi\\n----------------------------------------------------\\npython - pip install fails with \"connection error: [SSL: CERTIFICATE_VERIFY_FAILED] certificate verify failed (_ssl.c:598)\" - Stack Overflow\\n\\n\\n\\n\\n\\n\\n\\n\\n\\n\\n\\n\\n\\n\\n\\n\\n\\n\\n\\n\\n\\n\\n \\n\\n\\n\\n\\n\\n\\n\\n\\n\\n\\n\\n\\n\\n \\n\\n\\nSkip to main content\\n\\n\\n\\n\\n\\n\\nStack Overflow\\n\\n\\n\\n\\nAbout\\n\\n\\n\\n\\nProducts\\n\\n\\n\\n\\nFor Teams\\n\\n\\n\\n\\n\\n\\n\\n\\nStack Overflow for Teams\\nWhere developers & technologists share private knowledge with coworkers\\n\\n\\n\\n\\nAdvertising\\nReach devs & technologists worldwide about your product, service or employer brand\\n\\n\\n\\n\\nKnowledge Solutions\\nData licensing offering for businesses to build and improve AI tools and models\\n\\n\\n\\n\\nLabs\\nThe future of collective knowledge sharing\\n\\n\\n\\nAbout the company\\nVisit the blog\\n\\n\\n\\n\\n\\n\\n\\n\\n\\n\\n\\n\\nLoading…\\n\\n\\n\\n\\n\\n\\n\\n\\n\\n\\n\\n\\n\\n\\n\\ncurrent community\\n\\n\\n\\n\\n\\n\\n\\n\\n\\n\\n\\n\\n\\n\\n\\n\\n            Stack Overflow\\n        \\n\\n\\n\\nhelp\\nchat\\n\\n\\n\\n\\n\\n\\n\\n\\n\\n            Meta Stack Overflow\\n        \\n\\n\\n\\n\\n\\n\\nyour communities            \\n\\n\\n\\nSign up or log in to customize your list.                \\n\\n\\nmore stack exchange communities\\n\\ncompany blog\\n\\n\\n\\n\\n\\n\\n\\n\\nLog in\\n\\nSign up\\n\\n\\n\\n\\n\\n\\n\\n\\n\\n\\n\\n\\n\\n\\n\\n\\n\\n\\n Home\\n\\n\\n\\n\\n\\n\\n Questions\\n\\n\\n\\n\\n\\n\\n AI Assist\\nLabs\\n\\n\\n\\n\\n\\n\\n\\n Tags\\n\\n\\n\\n\\n\\n\\n\\n Challenges\\n\\n\\n\\n\\n\\n\\n\\n\\n\\nChat\\n\\n\\n\\n\\n\\n Articles\\n\\n\\n\\n\\n\\n\\n Users\\n\\n\\n\\n\\n\\n\\n\\n Companies\\n\\n\\n\\n\\n\\n\\nCollectives\\n\\n\\n\\n\\n\\n\\n\\n\\n                                        Communities for your favorite technologies.  Explore all Collectives\\n\\n\\n\\n\\n\\nTeams\\n\\n\\n\\n            Ask questions, find answers and collaborate at work with Stack Overflow for Teams.\\n        \\nTry Teams for free\\nExplore Teams\\n\\n\\n\\n\\nTeams\\n\\n\\n\\n\\n\\n\\n\\n            Ask questions, find answers and coll...\\n[Content truncated]\\n',\n",
       " '\\n4. Source: https://stackoverflow.com/questions/6392739/what-does-the-at-symbol-do-in-python\\n----------------------------------------------------\\nsyntax - What does the \"at\" (@) symbol do in Python? - Stack Overflow\\n\\n\\n\\n\\n\\n\\n\\n\\n\\n\\n\\n\\n\\n\\n\\n\\n\\n\\n\\n\\n\\n\\n \\n\\n\\n\\n\\n\\n\\n\\n\\n\\n\\n\\n\\n\\n \\n\\n\\nSkip to main content\\n\\n\\n\\n\\n\\n\\nStack Overflow\\n\\n\\n\\n\\nAbout\\n\\n\\n\\n\\nProducts\\n\\n\\n\\n\\nFor Teams\\n\\n\\n\\n\\n\\n\\n\\n\\nStack Overflow for Teams\\nWhere developers & technologists share private knowledge with coworkers\\n\\n\\n\\n\\nAdvertising\\nReach devs & technologists worldwide about your product, service or employer brand\\n\\n\\n\\n\\nKnowledge Solutions\\nData licensing offering for businesses to build and improve AI tools and models\\n\\n\\n\\n\\nLabs\\nThe future of collective knowledge sharing\\n\\n\\n\\nAbout the company\\nVisit the blog\\n\\n\\n\\n\\n\\n\\n\\n\\n\\n\\n\\n\\nLoading…\\n\\n\\n\\n\\n\\n\\n\\n\\n\\n\\n\\n\\n\\n\\n\\ncurrent community\\n\\n\\n\\n\\n\\n\\n\\n\\n\\n\\n\\n\\n\\n\\n\\n\\n            Stack Overflow\\n        \\n\\n\\n\\nhelp\\nchat\\n\\n\\n\\n\\n\\n\\n\\n\\n\\n            Meta Stack Overflow\\n        \\n\\n\\n\\n\\n\\n\\nyour communities            \\n\\n\\n\\nSign up or log in to customize your list.                \\n\\n\\nmore stack exchange communities\\n\\ncompany blog\\n\\n\\n\\n\\n\\n\\n\\n\\nLog in\\n\\nSign up\\n\\n\\n\\n\\n\\n\\n\\n\\n\\n\\n\\n\\n\\n\\n\\n\\n\\n\\n Home\\n\\n\\n\\n\\n\\n\\n Questions\\n\\n\\n\\n\\n\\n\\n AI Assist\\nLabs\\n\\n\\n\\n\\n\\n\\n\\n Tags\\n\\n\\n\\n\\n\\n\\n\\n Challenges\\n\\n\\n\\n\\n\\n\\n\\n\\n\\nChat\\n\\n\\n\\n\\n\\n Articles\\n\\n\\n\\n\\n\\n\\n Users\\n\\n\\n\\n\\n\\n\\n\\n Companies\\n\\n\\n\\n\\n\\n\\nCollectives\\n\\n\\n\\n\\n\\n\\n\\n\\n                                        Communities for your favorite technologies.  Explore all Collectives\\n\\n\\n\\n\\n\\nTeams\\n\\n\\n\\n            Ask questions, find answers and collaborate at work with Stack Overflow for Teams.\\n        \\nTry Teams for free\\nExplore Teams\\n\\n\\n\\n\\nTeams\\n\\n\\n\\n\\n\\n\\n\\n            Ask questions, find answers and collaborate at work with Stack Overflow for Teams.\\n            Explore Team...\\n[Content truncated]\\n',\n",
       " \"\\n5. Source: https://stackoverflow.com/questions/3294889/iterating-over-dictionaries-using-for-loops\\n----------------------------------------------------\\npython - Iterating over dictionaries using 'for' loops - Stack Overflow\\n\\n\\n\\n\\n\\n\\n\\n\\n\\n\\n\\n\\n\\n\\n\\n\\n\\n\\n\\n\\n\\n\\n \\n\\n\\n\\n\\n\\n\\n\\n\\n\\n\\n\\n\\n\\n \\n\\n\\nSkip to main content\\n\\n\\n\\n\\n\\n\\nStack Overflow\\n\\n\\n\\n\\nAbout\\n\\n\\n\\n\\nProducts\\n\\n\\n\\n\\nFor Teams\\n\\n\\n\\n\\n\\n\\n\\n\\nStack Overflow for Teams\\nWhere developers & technologists share private knowledge with coworkers\\n\\n\\n\\n\\nAdvertising\\nReach devs & technologists worldwide about your product, service or employer brand\\n\\n\\n\\n\\nKnowledge Solutions\\nData licensing offering for businesses to build and improve AI tools and models\\n\\n\\n\\n\\nLabs\\nThe future of collective knowledge sharing\\n\\n\\n\\nAbout the company\\nVisit the blog\\n\\n\\n\\n\\n\\n\\n\\n\\n\\n\\n\\n\\nLoading…\\n\\n\\n\\n\\n\\n\\n\\n\\n\\n\\n\\n\\n\\n\\n\\ncurrent community\\n\\n\\n\\n\\n\\n\\n\\n\\n\\n\\n\\n\\n\\n\\n\\n\\n            Stack Overflow\\n        \\n\\n\\n\\nhelp\\nchat\\n\\n\\n\\n\\n\\n\\n\\n\\n\\n            Meta Stack Overflow\\n        \\n\\n\\n\\n\\n\\n\\nyour communities            \\n\\n\\n\\nSign up or log in to customize your list.                \\n\\n\\nmore stack exchange communities\\n\\ncompany blog\\n\\n\\n\\n\\n\\n\\n\\n\\nLog in\\n\\nSign up\\n\\n\\n\\n\\n\\n\\n\\n\\n\\n\\n\\n\\n\\n\\n\\n\\n\\n\\n Home\\n\\n\\n\\n\\n\\n\\n Questions\\n\\n\\n\\n\\n\\n\\n AI Assist\\nLabs\\n\\n\\n\\n\\n\\n\\n\\n Tags\\n\\n\\n\\n\\n\\n\\n\\n Challenges\\n\\n\\n\\n\\n\\n\\n\\n\\n\\nChat\\n\\n\\n\\n\\n\\n Articles\\n\\n\\n\\n\\n\\n\\n Users\\n\\n\\n\\n\\n\\n\\n\\n Companies\\n\\n\\n\\n\\n\\n\\nCollectives\\n\\n\\n\\n\\n\\n\\n\\n\\n                                        Communities for your favorite technologies.  Explore all Collectives\\n\\n\\n\\n\\n\\nTeams\\n\\n\\n\\n            Ask questions, find answers and collaborate at work with Stack Overflow for Teams.\\n        \\nTry Teams for free\\nExplore Teams\\n\\n\\n\\n\\nTeams\\n\\n\\n\\n\\n\\n\\n\\n            Ask questions, find answers and collaborate at work with Stack Overflow for Teams.\\n            Explore Te...\\n[Content truncated]\\n\"]"
      ]
     },
     "execution_count": 42,
     "metadata": {},
     "output_type": "execute_result"
    }
   ],
   "source": [
    "formatted_docs"
   ]
  },
  {
   "cell_type": "code",
   "execution_count": null,
   "id": "ce27bc5e",
   "metadata": {},
   "outputs": [],
   "source": []
  }
 ],
 "metadata": {
  "kernelspec": {
   "display_name": "myenv (3.13.3)",
   "language": "python",
   "name": "python3"
  },
  "language_info": {
   "codemirror_mode": {
    "name": "ipython",
    "version": 3
   },
   "file_extension": ".py",
   "mimetype": "text/x-python",
   "name": "python",
   "nbconvert_exporter": "python",
   "pygments_lexer": "ipython3",
   "version": "3.13.3"
  }
 },
 "nbformat": 4,
 "nbformat_minor": 5
}
